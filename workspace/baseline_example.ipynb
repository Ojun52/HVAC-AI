{
 "cells": [
  {
   "cell_type": "code",
   "execution_count": 1,
   "id": "30e68da1-79d7-481c-a6f1-fc1f011c383e",
   "metadata": {},
   "outputs": [
    {
     "name": "stdout",
     "output_type": "stream",
     "text": [
      "Couldn't import dot_parser, loading of dot files will not be possible.\n"
     ]
    }
   ],
   "source": [
    "import sys\n",
    "from datetime import datetime\n",
    "\n",
    "import gymnasium as gym\n",
    "import numpy as np\n",
    "import wandb\n",
    "from stable_baselines3 import *\n",
    "from stable_baselines3.common.callbacks import CallbackList\n",
    "from stable_baselines3.common.logger import HumanOutputFormat\n",
    "from stable_baselines3.common.logger import Logger as SB3Logger\n",
    "\n",
    "import sinergym\n",
    "from sinergym.utils.callbacks import *\n",
    "from sinergym.utils.constants import *\n",
    "from sinergym.utils.logger import WandBOutputFormat\n",
    "from sinergym.utils.rewards import *\n",
    "from sinergym.utils.wrappers import *"
   ]
  },
  {
   "cell_type": "code",
   "execution_count": 2,
   "id": "8bdcd3e0-0bad-4520-8c5c-17f00d0fb881",
   "metadata": {},
   "outputs": [],
   "source": [
    "# Environment ID\n",
    "environment = 'Eplus-5zone-mixed-continuous-stochastic-v1'\n",
    "\n",
    "# Training episodes\n",
    "episodes = 5\n",
    "\n",
    "# Name of the experiment\n",
    "experiment_date = datetime.today().strftime('%Y-%m-%d_%H:%M')\n",
    "experiment_name = 'SB3_PPO-' + environment + \\\n",
    "    '-episodes-' + str(episodes)\n",
    "experiment_name += '_' + experiment_date"
   ]
  },
  {
   "cell_type": "code",
   "execution_count": 3,
   "id": "795b0b0a-f4e4-4d32-8520-1ad90e0da791",
   "metadata": {},
   "outputs": [
    {
     "name": "stdout",
     "output_type": "stream",
     "text": [
      "#==============================================================================================#\n",
      "\u001b[38;20m[ENVIRONMENT] (INFO) : Creating Gymnasium environment.\u001b[0m\n",
      "\u001b[38;20m[ENVIRONMENT] (INFO) : Name: SB3_PPO-Eplus-5zone-mixed-continuous-stochastic-v1-episodes-5_2025-08-06_16:13\u001b[0m\n",
      "#==============================================================================================#\n",
      "\u001b[38;20m[MODEL] (INFO) : Working directory created: /workspace/SB3_PPO-Eplus-5zone-mixed-continuous-stochastic-v1-episodes-5_2025-08-06_16:13-res1\u001b[0m\n",
      "\u001b[38;20m[MODEL] (INFO) : Model Config is correct.\u001b[0m\n",
      "\u001b[38;20m[MODEL] (INFO) : Building model Output:Variable updated with defined variable names.\u001b[0m\n",
      "\u001b[38;20m[MODEL] (INFO) : Updated building model Output:Meter with meter names.\u001b[0m\n",
      "\u001b[38;20m[MODEL] (INFO) : Runperiod established.\u001b[0m\n",
      "\u001b[38;20m[MODEL] (INFO) : Episode length (seconds): 31536000.0\u001b[0m\n",
      "\u001b[38;20m[MODEL] (INFO) : timestep size (seconds): 900.0\u001b[0m\n",
      "\u001b[38;20m[MODEL] (INFO) : timesteps per episode: 35040\u001b[0m\n",
      "\u001b[38;20m[REWARD] (INFO) : Reward function initialized.\u001b[0m\n",
      "\u001b[38;20m[ENVIRONMENT] (INFO) : Environment created successfully.\u001b[0m\n",
      "#==============================================================================================#\n",
      "\u001b[38;20m[ENVIRONMENT] (INFO) : Creating Gymnasium environment.\u001b[0m\n",
      "\u001b[38;20m[ENVIRONMENT] (INFO) : Name: SB3_PPO-Eplus-5zone-mixed-continuous-stochastic-v1-episodes-5_2025-08-06_16:13_EVALUATION\u001b[0m\n",
      "#==============================================================================================#\n",
      "\u001b[38;20m[MODEL] (INFO) : Working directory created: /workspace/SB3_PPO-Eplus-5zone-mixed-continuous-stochastic-v1-episodes-5_2025-08-06_16:13_EVALUATION-res1\u001b[0m\n",
      "\u001b[38;20m[MODEL] (INFO) : Model Config is correct.\u001b[0m\n",
      "\u001b[38;20m[MODEL] (INFO) : Building model Output:Variable updated with defined variable names.\u001b[0m\n",
      "\u001b[38;20m[MODEL] (INFO) : Updated building model Output:Meter with meter names.\u001b[0m\n",
      "\u001b[38;20m[MODEL] (INFO) : Runperiod established.\u001b[0m\n",
      "\u001b[38;20m[MODEL] (INFO) : Episode length (seconds): 31536000.0\u001b[0m\n",
      "\u001b[38;20m[MODEL] (INFO) : timestep size (seconds): 900.0\u001b[0m\n",
      "\u001b[38;20m[MODEL] (INFO) : timesteps per episode: 35040\u001b[0m\n",
      "\u001b[38;20m[REWARD] (INFO) : Reward function initialized.\u001b[0m\n",
      "\u001b[38;20m[ENVIRONMENT] (INFO) : Environment created successfully.\u001b[0m\n"
     ]
    }
   ],
   "source": [
    "env = gym.make(environment, env_name=experiment_name)\n",
    "eval_env = gym.make(environment, env_name=experiment_name+'_EVALUATION')"
   ]
  },
  {
   "cell_type": "code",
   "execution_count": 9,
   "id": "0feeaade-55d6-4f93-a2f8-6a208c5a203f",
   "metadata": {},
   "outputs": [
    {
     "name": "stdout",
     "output_type": "stream",
     "text": [
      "\u001b[38;20m[WRAPPER NormalizeObservation] (INFO) : Wrapper initialized.\u001b[0m\n",
      "\u001b[38;20m[WRAPPER NormalizeAction] (INFO) : New normalized action space: Box(-1.0, 1.0, (2,), float32)\u001b[0m\n",
      "\u001b[38;20m[WRAPPER NormalizeAction] (INFO) : Wrapper initialized.\u001b[0m\n",
      "\u001b[38;20m[WRAPPER LoggerWrapper] (INFO) : Wrapper initialized.\u001b[0m\n",
      "\u001b[38;20m[WRAPPER CSVLogger] (INFO) : Wrapper initialized.\u001b[0m\n"
     ]
    },
    {
     "data": {
      "text/html": [
       "Tracking run with wandb version 0.18.7"
      ],
      "text/plain": [
       "<IPython.core.display.HTML object>"
      ]
     },
     "metadata": {},
     "output_type": "display_data"
    },
    {
     "data": {
      "text/html": [
       "Run data is saved locally in <code>/workspace/wandb/run-20250806_162535-9kiyh8zs</code>"
      ],
      "text/plain": [
       "<IPython.core.display.HTML object>"
      ]
     },
     "metadata": {},
     "output_type": "display_data"
    },
    {
     "data": {
      "text/html": [
       "Syncing run <strong><a href='https://wandb.ai/ojun-info-alpha/uncategorized/runs/9kiyh8zs' target=\"_blank\">twilight-voice-1</a></strong> to <a href='https://wandb.ai/ojun-info-alpha/uncategorized' target=\"_blank\">Weights & Biases</a> (<a href='https://wandb.me/developer-guide' target=\"_blank\">docs</a>)<br/>"
      ],
      "text/plain": [
       "<IPython.core.display.HTML object>"
      ]
     },
     "metadata": {},
     "output_type": "display_data"
    },
    {
     "data": {
      "text/html": [
       " View project at <a href='https://wandb.ai/ojun-info-alpha/uncategorized' target=\"_blank\">https://wandb.ai/ojun-info-alpha/uncategorized</a>"
      ],
      "text/plain": [
       "<IPython.core.display.HTML object>"
      ]
     },
     "metadata": {},
     "output_type": "display_data"
    },
    {
     "data": {
      "text/html": [
       " View run at <a href='https://wandb.ai/ojun-info-alpha/uncategorized/runs/9kiyh8zs' target=\"_blank\">https://wandb.ai/ojun-info-alpha/uncategorized/runs/9kiyh8zs</a>"
      ],
      "text/plain": [
       "<IPython.core.display.HTML object>"
      ]
     },
     "metadata": {},
     "output_type": "display_data"
    },
    {
     "name": "stdout",
     "output_type": "stream",
     "text": [
      "\u001b[38;20m[WRAPPER WandBLogger] (INFO) : Wrapper initialized.\u001b[0m\n",
      "\u001b[38;20m[WRAPPER NormalizeObservation] (INFO) : Wrapper initialized.\u001b[0m\n",
      "\u001b[38;20m[WRAPPER NormalizeAction] (INFO) : New normalized action space: Box(-1.0, 1.0, (2,), float32)\u001b[0m\n",
      "\u001b[38;20m[WRAPPER NormalizeAction] (INFO) : Wrapper initialized.\u001b[0m\n",
      "\u001b[38;20m[WRAPPER LoggerWrapper] (INFO) : Wrapper initialized.\u001b[0m\n",
      "\u001b[38;20m[WRAPPER CSVLogger] (INFO) : Wrapper initialized.\u001b[0m\n"
     ]
    }
   ],
   "source": [
    "env = NormalizeObservation(env)\n",
    "env = NormalizeAction(env)\n",
    "env = LoggerWrapper(env)\n",
    "env = CSVLogger(env)\n",
    "\n",
    "# Discomment the following line to log to WandB (remember to set the API key as an environment variable)\n",
    "wandb.init(settings=wandb.Settings(init_timeout=120))\n",
    "env = WandBLogger(env,\n",
    "                 entity='ojun-info-alpha-example',\n",
    "                 project_name='final-report',\n",
    "                 run_name=experiment_name,\n",
    "                 group='ojun-info-alpha',\n",
    "                 tags=['DRL', 'PPO', '5zone', 'continuous', 'stochastic', 'v1'],\n",
    "                 save_code = True,\n",
    "                 dump_frequency = 1000,\n",
    "                 artifact_save = False,)\n",
    "\n",
    "eval_env = NormalizeObservation(eval_env)\n",
    "eval_env = NormalizeAction(eval_env)\n",
    "eval_env = LoggerWrapper(eval_env)\n",
    "eval_env = CSVLogger(eval_env)"
   ]
  },
  {
   "cell_type": "code",
   "execution_count": 10,
   "id": "2bce7463-8553-46bd-b5a7-dd97c0b7fc83",
   "metadata": {},
   "outputs": [
    {
     "name": "stdout",
     "output_type": "stream",
     "text": [
      "Using cpu device\n",
      "Wrapping the env with a `Monitor` wrapper\n",
      "Wrapping the env in a DummyVecEnv.\n"
     ]
    }
   ],
   "source": [
    "# In this case, all the hyperparameters are the default ones\n",
    "model = PPO('MlpPolicy', env, verbose=1, device='cpu')"
   ]
  },
  {
   "cell_type": "code",
   "execution_count": 11,
   "id": "e9d3d73a-77f0-4b9a-8014-f8192e2523f7",
   "metadata": {},
   "outputs": [],
   "source": [
    "callbacks = []\n",
    "\n",
    "# Set up Evaluation logging and saving best model\n",
    "eval_callback = LoggerEvalCallback(\n",
    "    eval_env=eval_env,\n",
    "    train_env=env,\n",
    "    n_eval_episodes=1,\n",
    "    eval_freq_episodes=2,\n",
    "    deterministic=True)\n",
    "\n",
    "callbacks.append(eval_callback)\n",
    "callback = CallbackList(callbacks)"
   ]
  },
  {
   "cell_type": "code",
   "execution_count": 12,
   "id": "686d88be-745e-4ac5-b2de-935afb4e811e",
   "metadata": {},
   "outputs": [],
   "source": [
    "timesteps = episodes * (env.get_wrapper_attr('timestep_per_episode') - 1)"
   ]
  },
  {
   "cell_type": "code",
   "execution_count": 14,
   "id": "72d9b591-31a3-435f-b502-1f8d132d2dcc",
   "metadata": {},
   "outputs": [],
   "source": [
    "# wandb logger and setting in SB3\n",
    "if is_wrapped(env, WandBLogger):\n",
    "    logger = SB3Logger(\n",
    "        folder=None,\n",
    "        output_formats=[\n",
    "            HumanOutputFormat(\n",
    "                sys.stdout,\n",
    "                max_length=120),\n",
    "            WandBOutputFormat()])\n",
    "    model.set_logger(logger)"
   ]
  },
  {
   "cell_type": "code",
   "execution_count": 15,
   "id": "6799851d-099a-4554-b0af-672524ad4042",
   "metadata": {},
   "outputs": [
    {
     "name": "stdout",
     "output_type": "stream",
     "text": [
      "\u001b[33;20m[WRAPPER WandBLogger] (WARNING) : Episode ignored for log summary in WandB Platform, it has not be completed in at least 90.0%.\u001b[0m\n",
      "\u001b[38;20m[WRAPPER WandBLogger] (INFO) : End of episode detected, dumping summary metrics in WandB Platform.\u001b[0m\n",
      "\u001b[38;20m[WRAPPER CSVLogger] (INFO) : End of episode detected, data updated in monitor and progress.csv.\u001b[0m\n",
      "\u001b[38;20m[WRAPPER NormalizeObservation] (INFO) : Normalization calibration saved.\u001b[0m           \n",
      "\u001b[38;20m[WRAPPER CSVLogger] (INFO) : End of episode detected, data updated in monitor and progress.csv.\u001b[0m\n",
      "\u001b[38;20m[WRAPPER NormalizeObservation] (INFO) : Normalization calibration saved.\u001b[0m           \n",
      "\u001b[38;20m[WRAPPER CSVLogger] (INFO) : End of episode detected, data updated in monitor and progress.csv.\u001b[0m\n",
      "\u001b[38;20m[WRAPPER NormalizeObservation] (INFO) : Normalization calibration saved.\u001b[0m           \n",
      "\u001b[38;20m[WRAPPER CSVLogger] (INFO) : End of episode detected, data updated in monitor and progress.csv.\u001b[0m\n",
      "\u001b[38;20m[WRAPPER NormalizeObservation] (INFO) : Normalization calibration saved.\u001b[0m           \n",
      "\u001b[38;20m[WRAPPER CSVLogger] (INFO) : End of episode detected, data updated in monitor and progress.csv.\u001b[0m\n",
      "\u001b[38;20m[WRAPPER NormalizeObservation] (INFO) : Normalization calibration saved.\u001b[0m           \n",
      "\u001b[38;20m[WRAPPER CSVLogger] (INFO) : End of episode detected, data updated in monitor and progress.csv.\u001b[0m\n",
      "\u001b[38;20m[WRAPPER NormalizeObservation] (INFO) : Normalization calibration saved.\u001b[0m           \n",
      "Simulation Progress [Episode 1]:  41%|████      | 41/100 [00:31<00:45,  1.29%/s, 41% completed]\n",
      "#----------------------------------------------------------------------------------------------#\n",
      "\u001b[38;20m[ENVIRONMENT] (INFO) : Starting a new episode.\u001b[0m\n",
      "\u001b[38;20m[ENVIRONMENT] (INFO) : Episode 2: SB3_PPO-Eplus-5zone-mixed-continuous-stochastic-v1-episodes-5_2025-08-06_16:13\u001b[0m\n",
      "#----------------------------------------------------------------------------------------------#\n",
      "\u001b[38;20m[MODEL] (INFO) : Episode directory created.\u001b[0m\n",
      "\u001b[38;20m[MODEL] (INFO) : Weather file USA_NY_New.York-J.F.Kennedy.Intl.AP.744860_TMY3.epw used.\u001b[0m\n",
      "\u001b[38;20m[MODEL] (INFO) : Adapting weather to building model.\u001b[0m\n",
      "\u001b[38;20m[MODEL] (INFO) : Weather noise applied to columns: ['Dry Bulb Temperature']\u001b[0m\n",
      "\u001b[38;20m[ENVIRONMENT] (INFO) : Saving episode output path in /workspace/SB3_PPO-Eplus-5zone-mixed-continuous-stochastic-v1-episodes-5_2025-08-06_16:13-res1/episode-2/output.\u001b[0m\n",
      "\u001b[38;20m[SIMULATOR] (INFO) : handlers are ready.\u001b[0m\n",
      "\u001b[38;20m[SIMULATOR] (INFO) : System is ready.\u001b[0m\n",
      "\u001b[38;20m[ENVIRONMENT] (INFO) : Episode 2 started.\u001b[0m\n",
      "\u001b[38;20m[WRAPPER WandBLogger] (INFO) : End of episode detected, dumping summary metrics in WandB Platform.\u001b[0m\n",
      "\u001b[38;20m[WRAPPER CSVLogger] (INFO) : End of episode detected, data updated in monitor and progress.csv.\u001b[0m\n",
      "\u001b[38;20m[WRAPPER NormalizeObservation] (INFO) : Normalization calibration saved.\u001b[0m             \n",
      "\u001b[38;20m[WRAPPER CSVLogger] (INFO) : End of episode detected, data updated in monitor and progress.csv.\u001b[0m\n",
      "\u001b[38;20m[WRAPPER NormalizeObservation] (INFO) : Normalization calibration saved.\u001b[0m             \n",
      "\u001b[38;20m[WRAPPER CSVLogger] (INFO) : End of episode detected, data updated in monitor and progress.csv.\u001b[0m\n",
      "\u001b[38;20m[WRAPPER NormalizeObservation] (INFO) : Normalization calibration saved.\u001b[0m             \n",
      "\u001b[38;20m[WRAPPER CSVLogger] (INFO) : End of episode detected, data updated in monitor and progress.csv.\u001b[0m\n",
      "\u001b[38;20m[WRAPPER NormalizeObservation] (INFO) : Normalization calibration saved.\u001b[0m             \n",
      "\u001b[38;20m[WRAPPER CSVLogger] (INFO) : End of episode detected, data updated in monitor and progress.csv.\u001b[0m\n",
      "\u001b[38;20m[WRAPPER NormalizeObservation] (INFO) : Normalization calibration saved.\u001b[0m             \n",
      "\u001b[38;20m[WRAPPER CSVLogger] (INFO) : End of episode detected, data updated in monitor and progress.csv.\u001b[0m\n",
      "\u001b[38;20m[WRAPPER NormalizeObservation] (INFO) : Normalization calibration saved.\u001b[0m             \n",
      "Simulation Progress [Episode 2]: 100%|██████████| 100/100 [00:58<00:00,  1.72%/s, 100% completed]\n",
      "#----------------------------------------------------------------------------------------------#\n",
      "\u001b[38;20m[ENVIRONMENT] (INFO) : Starting a new episode.\u001b[0m\n",
      "\u001b[38;20m[ENVIRONMENT] (INFO) : Episode 3: SB3_PPO-Eplus-5zone-mixed-continuous-stochastic-v1-episodes-5_2025-08-06_16:13\u001b[0m\n",
      "#----------------------------------------------------------------------------------------------#\n",
      "\u001b[38;20m[MODEL] (INFO) : Episode directory created.\u001b[0m\n",
      "\u001b[38;20m[MODEL] (INFO) : Weather file USA_NY_New.York-J.F.Kennedy.Intl.AP.744860_TMY3.epw used.\u001b[0m\n",
      "\u001b[38;20m[MODEL] (INFO) : Adapting weather to building model.\u001b[0m\n",
      "\u001b[38;20m[MODEL] (INFO) : Weather noise applied to columns: ['Dry Bulb Temperature']\u001b[0m\n",
      "\u001b[38;20m[ENVIRONMENT] (INFO) : Saving episode output path in /workspace/SB3_PPO-Eplus-5zone-mixed-continuous-stochastic-v1-episodes-5_2025-08-06_16:13-res1/episode-3/output.\u001b[0m\n",
      "\u001b[38;20m[SIMULATOR] (INFO) : handlers are ready.\u001b[0m\n",
      "\u001b[38;20m[SIMULATOR] (INFO) : System is ready.\u001b[0m\n",
      "\u001b[38;20m[ENVIRONMENT] (INFO) : Episode 3 started.\u001b[0m\n",
      "\u001b[33;20m[WRAPPER WandBLogger] (WARNING) : Episode ignored for log summary in WandB Platform, it has not be completed in at least {self.episode_percentage * 100}%.\u001b[0m\n",
      "\u001b[38;20m[WRAPPER WandBLogger] (INFO) : Environment closed, dumping summary metrics in WandB Platform.\u001b[0m\n",
      "\u001b[38;20m[WRAPPER CSVLogger] (INFO) : Environment closed, data updated in monitor and progress.csv.\u001b[0m\n",
      "\u001b[38;20m[WRAPPER NormalizeObservation] (INFO) : Normalization calibration saved.\u001b[0m           \n",
      "\u001b[38;20m[WRAPPER CSVLogger] (INFO) : Environment closed, data updated in monitor and progress.csv.\u001b[0m\n",
      "\u001b[38;20m[WRAPPER NormalizeObservation] (INFO) : Normalization calibration saved.\u001b[0m           \n",
      "\u001b[38;20m[WRAPPER CSVLogger] (INFO) : Environment closed, data updated in monitor and progress.csv.\u001b[0m\n",
      "\u001b[38;20m[WRAPPER NormalizeObservation] (INFO) : Normalization calibration saved.\u001b[0m           \n",
      "\u001b[38;20m[WRAPPER CSVLogger] (INFO) : Environment closed, data updated in monitor and progress.csv.\u001b[0m\n",
      "\u001b[38;20m[WRAPPER NormalizeObservation] (INFO) : Normalization calibration saved.\u001b[0m           \n",
      "\u001b[38;20m[WRAPPER CSVLogger] (INFO) : Environment closed, data updated in monitor and progress.csv.\u001b[0m\n",
      "\u001b[38;20m[WRAPPER NormalizeObservation] (INFO) : Normalization calibration saved.\u001b[0m           \n",
      "\u001b[38;20m[WRAPPER CSVLogger] (INFO) : Environment closed, data updated in monitor and progress.csv.\u001b[0m\n",
      "\u001b[38;20m[WRAPPER NormalizeObservation] (INFO) : Normalization calibration saved.\u001b[0m           \n",
      "Simulation Progress [Episode 3]:  61%|██████    | 61/100 [00:32<00:21,  1.85%/s, 61% completed]\n",
      "\u001b[38;20m[ENVIRONMENT] (INFO) : Environment closed. [SB3_PPO-Eplus-5zone-mixed-continuous-stochastic-v1-episodes-5_2025-08-06_16:13]\u001b[0m\n",
      "#----------------------------------------------------------------------------------------------#\n",
      "\u001b[38;20m[ENVIRONMENT] (INFO) : Starting a new episode.\u001b[0m\n",
      "\u001b[38;20m[ENVIRONMENT] (INFO) : Episode 1: SB3_PPO-Eplus-5zone-mixed-continuous-stochastic-v1-episodes-5_2025-08-06_16:13_EVALUATION\u001b[0m\n",
      "#----------------------------------------------------------------------------------------------#\n",
      "\u001b[38;20m[MODEL] (INFO) : Episode directory created.\u001b[0m\n",
      "\u001b[38;20m[MODEL] (INFO) : Weather file USA_NY_New.York-J.F.Kennedy.Intl.AP.744860_TMY3.epw used.\u001b[0m\n",
      "\u001b[38;20m[MODEL] (INFO) : Adapting weather to building model.\u001b[0m\n",
      "\u001b[38;20m[MODEL] (INFO) : Weather noise applied to columns: ['Dry Bulb Temperature']\u001b[0m\n",
      "\u001b[38;20m[ENVIRONMENT] (INFO) : Saving episode output path in /workspace/SB3_PPO-Eplus-5zone-mixed-continuous-stochastic-v1-episodes-5_2025-08-06_16:13_EVALUATION-res1/episode-1/output.\u001b[0m\n",
      "\u001b[38;20m[SIMULATOR] (INFO) : handlers initialized.\u001b[0m\n",
      "\u001b[38;20m[SIMULATOR] (INFO) : handlers are ready.\u001b[0m\n",
      "\u001b[38;20m[SIMULATOR] (INFO) : System is ready.\u001b[0m\n",
      "\u001b[38;20m[ENVIRONMENT] (INFO) : Episode 1 started.\u001b[0m\n",
      "\u001b[38;20m[EVALUATION] (INFO) : Evaluation num_timesteps=56199, episode_reward=-0.9091365828675754 +/- 0.9269131533365959\u001b[0m\n",
      "\u001b[38;20m[EVALUATION] (INFO) : New best mean reward!\u001b[0m                                          \n",
      "\u001b[38;20m[EVALUATION] (INFO) : Save normalization calibration in evaluation folder\u001b[0m            \n",
      "\u001b[38;20m[WRAPPER CSVLogger] (INFO) : Environment closed, data updated in monitor and progress.csv.\u001b[0m\n",
      "\u001b[38;20m[WRAPPER NormalizeObservation] (INFO) : Normalization calibration saved.\u001b[0m             \n",
      "Simulation Progress [Episode 1]: 100%|██████████| 100/100 [00:25<00:00,  3.89%/s, 100% completed]\n",
      "\u001b[38;20m[ENVIRONMENT] (INFO) : Environment closed. [SB3_PPO-Eplus-5zone-mixed-continuous-stochastic-v1-episodes-5_2025-08-06_16:13_EVALUATION]\u001b[0m\n",
      "\u001b[38;20m[WRAPPER NormalizeObservation] (INFO) : Normalization calibration saved.\u001b[0m\n",
      "\u001b[38;20m[WRAPPER NormalizeObservation] (INFO) : Normalization calibration saved.\u001b[0m\n",
      "\u001b[38;20m[WRAPPER NormalizeObservation] (INFO) : Normalization calibration saved.\u001b[0m\n",
      "\u001b[38;20m[WRAPPER NormalizeObservation] (INFO) : Normalization calibration saved.\u001b[0m\n",
      "\u001b[38;20m[WRAPPER NormalizeObservation] (INFO) : Normalization calibration saved.\u001b[0m\n",
      "\u001b[38;20m[WRAPPER NormalizeObservation] (INFO) : Normalization calibration saved.\u001b[0m\n",
      "#----------------------------------------------------------------------------------------------#\n",
      "\u001b[38;20m[ENVIRONMENT] (INFO) : Starting a new episode.\u001b[0m\n",
      "\u001b[38;20m[ENVIRONMENT] (INFO) : Episode 4: SB3_PPO-Eplus-5zone-mixed-continuous-stochastic-v1-episodes-5_2025-08-06_16:13\u001b[0m\n",
      "#----------------------------------------------------------------------------------------------#\n",
      "\u001b[38;20m[MODEL] (INFO) : Episode directory created.\u001b[0m\n",
      "\u001b[38;20m[MODEL] (INFO) : Weather file USA_NY_New.York-J.F.Kennedy.Intl.AP.744860_TMY3.epw used.\u001b[0m\n",
      "\u001b[38;20m[MODEL] (INFO) : Adapting weather to building model.\u001b[0m\n",
      "\u001b[38;20m[MODEL] (INFO) : Weather noise applied to columns: ['Dry Bulb Temperature']\u001b[0m\n",
      "\u001b[38;20m[ENVIRONMENT] (INFO) : Saving episode output path in /workspace/SB3_PPO-Eplus-5zone-mixed-continuous-stochastic-v1-episodes-5_2025-08-06_16:13-res1/episode-4/output.\u001b[0m\n",
      "\u001b[38;20m[SIMULATOR] (INFO) : handlers are ready.\u001b[0m\n",
      "\u001b[38;20m[SIMULATOR] (INFO) : System is ready.\u001b[0m\n",
      "\u001b[38;20m[ENVIRONMENT] (INFO) : Episode 4 started.\u001b[0m\n",
      "\u001b[38;20m[WRAPPER WandBLogger] (INFO) : End of episode detected, dumping summary metrics in WandB Platform.\u001b[0m\n",
      "\u001b[38;20m[WRAPPER CSVLogger] (INFO) : End of episode detected, data updated in monitor and progress.csv.\u001b[0m\n",
      "\u001b[38;20m[WRAPPER NormalizeObservation] (INFO) : Normalization calibration saved.\u001b[0m             \n",
      "\u001b[38;20m[WRAPPER CSVLogger] (INFO) : End of episode detected, data updated in monitor and progress.csv.\u001b[0m\n",
      "\u001b[38;20m[WRAPPER NormalizeObservation] (INFO) : Normalization calibration saved.\u001b[0m             \n",
      "\u001b[38;20m[WRAPPER CSVLogger] (INFO) : End of episode detected, data updated in monitor and progress.csv.\u001b[0m\n",
      "\u001b[38;20m[WRAPPER NormalizeObservation] (INFO) : Normalization calibration saved.\u001b[0m             \n",
      "\u001b[38;20m[WRAPPER CSVLogger] (INFO) : End of episode detected, data updated in monitor and progress.csv.\u001b[0m\n",
      "\u001b[38;20m[WRAPPER NormalizeObservation] (INFO) : Normalization calibration saved.\u001b[0m             \n",
      "\u001b[38;20m[WRAPPER CSVLogger] (INFO) : End of episode detected, data updated in monitor and progress.csv.\u001b[0m\n",
      "\u001b[38;20m[WRAPPER NormalizeObservation] (INFO) : Normalization calibration saved.\u001b[0m             \n",
      "\u001b[38;20m[WRAPPER CSVLogger] (INFO) : End of episode detected, data updated in monitor and progress.csv.\u001b[0m\n",
      "\u001b[38;20m[WRAPPER NormalizeObservation] (INFO) : Normalization calibration saved.\u001b[0m             \n",
      "Simulation Progress [Episode 4]: 100%|██████████| 100/100 [00:57<00:00,  1.73%/s, 100% completed]\n",
      "#----------------------------------------------------------------------------------------------#\n",
      "\u001b[38;20m[ENVIRONMENT] (INFO) : Starting a new episode.\u001b[0m\n",
      "\u001b[38;20m[ENVIRONMENT] (INFO) : Episode 5: SB3_PPO-Eplus-5zone-mixed-continuous-stochastic-v1-episodes-5_2025-08-06_16:13\u001b[0m\n",
      "#----------------------------------------------------------------------------------------------#\n",
      "\u001b[38;20m[MODEL] (INFO) : Episode directory created.\u001b[0m\n",
      "\u001b[38;20m[MODEL] (INFO) : Weather file USA_NY_New.York-J.F.Kennedy.Intl.AP.744860_TMY3.epw used.\u001b[0m\n",
      "\u001b[38;20m[MODEL] (INFO) : Adapting weather to building model.\u001b[0m\n",
      "\u001b[38;20m[MODEL] (INFO) : Weather noise applied to columns: ['Dry Bulb Temperature']\u001b[0m\n",
      "\u001b[38;20m[ENVIRONMENT] (INFO) : Saving episode output path in /workspace/SB3_PPO-Eplus-5zone-mixed-continuous-stochastic-v1-episodes-5_2025-08-06_16:13-res1/episode-5/output.\u001b[0m\n",
      "\u001b[38;20m[SIMULATOR] (INFO) : handlers are ready.\u001b[0m\n",
      "\u001b[38;20m[SIMULATOR] (INFO) : System is ready.\u001b[0m\n",
      "\u001b[38;20m[ENVIRONMENT] (INFO) : Episode 5 started.\u001b[0m\n",
      "\u001b[38;20m[WRAPPER WandBLogger] (INFO) : Environment closed, dumping summary metrics in WandB Platform.\u001b[0m\n",
      "\u001b[38;20m[WRAPPER CSVLogger] (INFO) : Environment closed, data updated in monitor and progress.csv.\u001b[0m\n",
      "\u001b[38;20m[WRAPPER NormalizeObservation] (INFO) : Normalization calibration saved.\u001b[0m             \n",
      "\u001b[38;20m[WRAPPER CSVLogger] (INFO) : Environment closed, data updated in monitor and progress.csv.\u001b[0m\n",
      "\u001b[38;20m[WRAPPER NormalizeObservation] (INFO) : Normalization calibration saved.\u001b[0m             \n",
      "\u001b[38;20m[WRAPPER CSVLogger] (INFO) : Environment closed, data updated in monitor and progress.csv.\u001b[0m\n",
      "\u001b[38;20m[WRAPPER NormalizeObservation] (INFO) : Normalization calibration saved.\u001b[0m             \n",
      "\u001b[38;20m[WRAPPER CSVLogger] (INFO) : Environment closed, data updated in monitor and progress.csv.\u001b[0m\n",
      "\u001b[38;20m[WRAPPER NormalizeObservation] (INFO) : Normalization calibration saved.\u001b[0m             \n",
      "\u001b[38;20m[WRAPPER CSVLogger] (INFO) : Environment closed, data updated in monitor and progress.csv.\u001b[0m\n",
      "\u001b[38;20m[WRAPPER NormalizeObservation] (INFO) : Normalization calibration saved.\u001b[0m             \n",
      "\u001b[38;20m[WRAPPER CSVLogger] (INFO) : Environment closed, data updated in monitor and progress.csv.\u001b[0m\n",
      "\u001b[38;20m[WRAPPER NormalizeObservation] (INFO) : Normalization calibration saved.\u001b[0m             \n",
      "Simulation Progress [Episode 5]: 100%|██████████| 100/100 [00:53<00:00,  1.87%/s, 100% completed]\n",
      "\u001b[38;20m[ENVIRONMENT] (INFO) : Environment closed. [SB3_PPO-Eplus-5zone-mixed-continuous-stochastic-v1-episodes-5_2025-08-06_16:13]\u001b[0m\n",
      "\u001b[38;20m[WRAPPER NormalizeObservation] (INFO) : Normalization calibration saved.\u001b[0m\n",
      "#----------------------------------------------------------------------------------------------#\n",
      "\u001b[38;20m[ENVIRONMENT] (INFO) : Starting a new episode.\u001b[0m\n",
      "\u001b[38;20m[ENVIRONMENT] (INFO) : Episode 2: SB3_PPO-Eplus-5zone-mixed-continuous-stochastic-v1-episodes-5_2025-08-06_16:13_EVALUATION\u001b[0m\n",
      "#----------------------------------------------------------------------------------------------#\n",
      "\u001b[38;20m[MODEL] (INFO) : Episode directory created.\u001b[0m\n",
      "\u001b[38;20m[MODEL] (INFO) : Weather file USA_NY_New.York-J.F.Kennedy.Intl.AP.744860_TMY3.epw used.\u001b[0m\n",
      "\u001b[38;20m[MODEL] (INFO) : Adapting weather to building model.\u001b[0m\n",
      "\u001b[38;20m[MODEL] (INFO) : Weather noise applied to columns: ['Dry Bulb Temperature']\u001b[0m\n",
      "\u001b[38;20m[ENVIRONMENT] (INFO) : Saving episode output path in /workspace/SB3_PPO-Eplus-5zone-mixed-continuous-stochastic-v1-episodes-5_2025-08-06_16:13_EVALUATION-res1/episode-2/output.\u001b[0m\n",
      "\u001b[38;20m[SIMULATOR] (INFO) : handlers are ready.\u001b[0m\n",
      "\u001b[38;20m[SIMULATOR] (INFO) : System is ready.\u001b[0m\n",
      "\u001b[38;20m[ENVIRONMENT] (INFO) : Episode 2 started.\u001b[0m\n",
      "\u001b[38;20m[EVALUATION] (INFO) : Evaluation num_timesteps=126277, episode_reward=-0.9159267424450311 +/- 0.9524042647782538\u001b[0m\n",
      "\u001b[38;20m[WRAPPER CSVLogger] (INFO) : Environment closed, data updated in monitor and progress.csv.\u001b[0m\n",
      "\u001b[38;20m[WRAPPER NormalizeObservation] (INFO) : Normalization calibration saved.\u001b[0m             \n",
      "Simulation Progress [Episode 2]: 100%|██████████| 100/100 [00:25<00:00,  3.94%/s, 100% completed]\n",
      "\u001b[38;20m[ENVIRONMENT] (INFO) : Environment closed. [SB3_PPO-Eplus-5zone-mixed-continuous-stochastic-v1-episodes-5_2025-08-06_16:13_EVALUATION]\u001b[0m\n",
      "\u001b[38;20m[WRAPPER NormalizeObservation] (INFO) : Normalization calibration saved.\u001b[0m\n",
      "\u001b[38;20m[WRAPPER NormalizeObservation] (INFO) : Normalization calibration saved.\u001b[0m\n",
      "\u001b[38;20m[WRAPPER NormalizeObservation] (INFO) : Normalization calibration saved.\u001b[0m\n",
      "\u001b[38;20m[WRAPPER NormalizeObservation] (INFO) : Normalization calibration saved.\u001b[0m\n",
      "\u001b[38;20m[WRAPPER NormalizeObservation] (INFO) : Normalization calibration saved.\u001b[0m\n",
      "\u001b[38;20m[WRAPPER NormalizeObservation] (INFO) : Normalization calibration saved.\u001b[0m\n",
      "#----------------------------------------------------------------------------------------------#\n",
      "\u001b[38;20m[ENVIRONMENT] (INFO) : Starting a new episode.\u001b[0m\n",
      "\u001b[38;20m[ENVIRONMENT] (INFO) : Episode 6: SB3_PPO-Eplus-5zone-mixed-continuous-stochastic-v1-episodes-5_2025-08-06_16:13\u001b[0m\n",
      "#----------------------------------------------------------------------------------------------#\n",
      "\u001b[38;20m[MODEL] (INFO) : Episode directory created.\u001b[0m\n",
      "\u001b[38;20m[MODEL] (INFO) : Weather file USA_NY_New.York-J.F.Kennedy.Intl.AP.744860_TMY3.epw used.\u001b[0m\n",
      "\u001b[38;20m[MODEL] (INFO) : Adapting weather to building model.\u001b[0m\n",
      "\u001b[38;20m[MODEL] (INFO) : Weather noise applied to columns: ['Dry Bulb Temperature']\u001b[0m\n",
      "\u001b[38;20m[ENVIRONMENT] (INFO) : Saving episode output path in /workspace/SB3_PPO-Eplus-5zone-mixed-continuous-stochastic-v1-episodes-5_2025-08-06_16:13-res1/episode-6/output.\u001b[0m\n",
      "\u001b[38;20m[SIMULATOR] (INFO) : handlers are ready.\u001b[0m\n",
      "\u001b[38;20m[SIMULATOR] (INFO) : System is ready.\u001b[0m\n",
      "\u001b[38;20m[ENVIRONMENT] (INFO) : Episode 6 started.\u001b[0m\n",
      "\u001b[38;20m[WRAPPER WandBLogger] (INFO) : End of episode detected, dumping summary metrics in WandB Platform.\u001b[0m\n",
      "\u001b[38;20m[WRAPPER CSVLogger] (INFO) : End of episode detected, data updated in monitor and progress.csv.\u001b[0m\n",
      "\u001b[38;20m[WRAPPER NormalizeObservation] (INFO) : Normalization calibration saved.\u001b[0m             \n",
      "\u001b[38;20m[WRAPPER CSVLogger] (INFO) : End of episode detected, data updated in monitor and progress.csv.\u001b[0m\n",
      "\u001b[38;20m[WRAPPER NormalizeObservation] (INFO) : Normalization calibration saved.\u001b[0m             \n",
      "\u001b[38;20m[WRAPPER CSVLogger] (INFO) : End of episode detected, data updated in monitor and progress.csv.\u001b[0m\n",
      "\u001b[38;20m[WRAPPER NormalizeObservation] (INFO) : Normalization calibration saved.\u001b[0m             \n",
      "\u001b[38;20m[WRAPPER CSVLogger] (INFO) : End of episode detected, data updated in monitor and progress.csv.\u001b[0m\n",
      "\u001b[38;20m[WRAPPER NormalizeObservation] (INFO) : Normalization calibration saved.\u001b[0m             \n",
      "\u001b[38;20m[WRAPPER CSVLogger] (INFO) : End of episode detected, data updated in monitor and progress.csv.\u001b[0m\n",
      "\u001b[38;20m[WRAPPER NormalizeObservation] (INFO) : Normalization calibration saved.\u001b[0m             \n",
      "\u001b[38;20m[WRAPPER CSVLogger] (INFO) : End of episode detected, data updated in monitor and progress.csv.\u001b[0m\n",
      "\u001b[38;20m[WRAPPER NormalizeObservation] (INFO) : Normalization calibration saved.\u001b[0m             \n",
      "Simulation Progress [Episode 6]: 100%|██████████| 100/100 [00:57<00:00,  1.74%/s, 100% completed]\n",
      "#----------------------------------------------------------------------------------------------#\n",
      "\u001b[38;20m[ENVIRONMENT] (INFO) : Starting a new episode.\u001b[0m\n",
      "\u001b[38;20m[ENVIRONMENT] (INFO) : Episode 7: SB3_PPO-Eplus-5zone-mixed-continuous-stochastic-v1-episodes-5_2025-08-06_16:13\u001b[0m\n",
      "#----------------------------------------------------------------------------------------------#\n",
      "\u001b[38;20m[MODEL] (INFO) : Episode directory created.\u001b[0m\n",
      "\u001b[38;20m[MODEL] (INFO) : Weather file USA_NY_New.York-J.F.Kennedy.Intl.AP.744860_TMY3.epw used.\u001b[0m\n",
      "\u001b[38;20m[MODEL] (INFO) : Adapting weather to building model.\u001b[0m\n",
      "\u001b[38;20m[MODEL] (INFO) : Weather noise applied to columns: ['Dry Bulb Temperature']\u001b[0m\n",
      "\u001b[38;20m[ENVIRONMENT] (INFO) : Saving episode output path in /workspace/SB3_PPO-Eplus-5zone-mixed-continuous-stochastic-v1-episodes-5_2025-08-06_16:13-res1/episode-7/output.\u001b[0m\n",
      "\u001b[38;20m[SIMULATOR] (INFO) : handlers are ready.\u001b[0m\n",
      "\u001b[38;20m[SIMULATOR] (INFO) : System is ready.\u001b[0m\n",
      "\u001b[38;20m[ENVIRONMENT] (INFO) : Episode 7 started.\u001b[0m\n",
      "Simulation Progress [Episode 7]:  43%|████▎     | 43/100 [00:21<00:24,  2.29%/s, 43% completed] "
     ]
    },
    {
     "data": {
      "text/plain": [
       "<stable_baselines3.ppo.ppo.PPO at 0x705cff521d60>"
      ]
     },
     "execution_count": 15,
     "metadata": {},
     "output_type": "execute_result"
    }
   ],
   "source": [
    "model.learn(\n",
    "    total_timesteps=timesteps,\n",
    "    callback=callback,\n",
    "    log_interval=100)"
   ]
  },
  {
   "cell_type": "code",
   "execution_count": 16,
   "id": "db70fa01-382b-462c-971c-859cad1cd341",
   "metadata": {},
   "outputs": [],
   "source": [
    "model.save(env.get_wrapper_attr('workspace_path') + '/model')"
   ]
  },
  {
   "cell_type": "code",
   "execution_count": null,
   "id": "381b9234-5c34-4620-872f-05f53292cc53",
   "metadata": {},
   "outputs": [
    {
     "name": "stdout",
     "output_type": "stream",
     "text": [
      "\u001b[33;20m[WRAPPER WandBLogger] (WARNING) : Episode ignored for log summary in WandB Platform, it has not be completed in at least {self.episode_percentage * 100}%.\u001b[0m\n",
      "\u001b[38;20m[WRAPPER WandBLogger] (INFO) : Environment closed, dumping summary metrics in WandB Platform.\u001b[0m\n",
      "Simulation Progress [Episode 7]:  43%|████▎     | 43/100 [01:03<00:24,  2.29%/s, 43% completed]"
     ]
    }
   ],
   "source": [
    "env.close()"
   ]
  },
  {
   "cell_type": "code",
   "execution_count": null,
   "id": "7d64b524-5227-49bf-a935-5a28967b1ddf",
   "metadata": {},
   "outputs": [],
   "source": []
  }
 ],
 "metadata": {
  "kernelspec": {
   "display_name": "Python 3 (ipykernel)",
   "language": "python",
   "name": "python3"
  },
  "language_info": {
   "codemirror_mode": {
    "name": "ipython",
    "version": 3
   },
   "file_extension": ".py",
   "mimetype": "text/x-python",
   "name": "python",
   "nbconvert_exporter": "python",
   "pygments_lexer": "ipython3",
   "version": "3.12.3"
  }
 },
 "nbformat": 4,
 "nbformat_minor": 5
}
